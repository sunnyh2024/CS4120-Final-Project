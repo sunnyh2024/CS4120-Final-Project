{
 "cells": [
  {
   "cell_type": "code",
   "execution_count": null,
   "metadata": {},
   "outputs": [],
   "source": [
    "import tensorflow as tf\n",
    "import transformers\n",
    "import numpy as np\n",
    "import pandas as pd\n",
    "import json\n",
    "\n",
    "# for plotting\n",
    "import matplotlib.pyplot as plt\n",
    "from transformers import BertTokenizer, EncoderDecoderModel, BertGenerationTokenizer, BertGenerationEncoder, BertGenerationDecoder"
   ]
  },
  {
   "cell_type": "code",
   "execution_count": null,
   "metadata": {},
   "outputs": [],
   "source": [
    "tokenizer = BertTokenizer.from_pretrained('bert-base-cased')\n",
    "encoder = BertGenerationEncoder.from_pretrained(\"bert-large-uncased\", bos_token_id=101, eos_token_id=102)\n",
    "decoder = BertGenerationDecoder.from_pretrained(\"bert-large-uncased\", add_cross_attention=True, is_decoder=True, bos_token_id=101, eos_token_id=102)\n",
    "bert2bert = EncoderDecoderModel(encoder=encoder, decoder=decoder)\n",
    "\n",
    "bert.summary()"
   ]
  },
  {
   "cell_type": "code",
   "execution_count": null,
   "metadata": {},
   "outputs": [],
   "source": [
    "f = open('spotify_million_playlist_dataset_challenge/challenge_set.json')\n",
    "\n",
    "js = json.load(f)\n",
    "playlists = js['playlists']\n",
    "titles = []\n",
    "tracks = []\n",
    "\n",
    "for playlist in playlists:\n",
    "    if not playlist['tracks'] or 'name' not in playlist:\n",
    "        continue\n",
    "    titles.append(playlist['name'].lower())\n",
    "    tracks.append(' '.join(track['track_uri'] for track in playlist['tracks']))"
   ]
  },
  {
   "cell_type": "code",
   "execution_count": null,
   "metadata": {},
   "outputs": [],
   "source": [
    "# define a batch size for our experiments\n",
    "BATCH_SIZE = 4\n",
    "# define a percentage of the data to use for training\n",
    "SPLIT_PC = .80\n",
    "\n",
    "# TODO: caluculate the last index for the training data\n",
    "END = int(len()*SPLIT_PC)"
   ]
  }
 ],
 "metadata": {
  "language_info": {
   "name": "python"
  }
 },
 "nbformat": 4,
 "nbformat_minor": 2
}
